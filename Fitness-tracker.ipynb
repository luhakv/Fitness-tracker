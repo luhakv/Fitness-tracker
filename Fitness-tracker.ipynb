{
 "cells": [
  {
   "cell_type": "code",
   "execution_count": 1,
   "metadata": {},
   "outputs": [],
   "source": [
    "import pandas as pd\n",
    "import numpy as np\n",
    "import statistics\n",
    "from datetime import datetime, timedelta"
   ]
  },
  {
   "cell_type": "code",
   "execution_count": 2,
   "metadata": {},
   "outputs": [],
   "source": [
    "#создаем период дат. Месяц. В сутках интервалы 5 минут.\n",
    "range1 = pd.date_range('2019-11-01', '2019-12-01', freq='5min')\n",
    "#переводим в дата фрейм с датами-индексами\n",
    "df = pd.DataFrame(index = range1)\n",
    "#добавляем рандомное количество шагов за 5 минут\n",
    "df['steps'] = np.random.randint(low=0, high=35, size=len(df.index))\n",
    "#суммируем за сутки шаги\n",
    "df1 = df.resample('1d').sum()\n",
    "#добавляем тестовое пропущенное значение\n",
    "df1.iloc[3] = None"
   ]
  },
  {
   "cell_type": "markdown",
   "metadata": {},
   "source": [
    "### Описание работы\n",
    "Мы узнаем прошел ли пользователь больше шагов, чем обычно, или нет. Уточним что такое \"обычно\": найдем медиану шагов до вводимой даты. Определим прошел меньше медианы или нет."
   ]
  },
  {
   "cell_type": "code",
   "execution_count": null,
   "metadata": {},
   "outputs": [],
   "source": [
    "date_input = input('Введите дату с 2019-11-01 по 2019-12-01 в формате YYYY-mm-dd:')\n",
    "for i in df1.index:\n",
    "    if i.strftime('%Y-%m-%d') == date_input:\n",
    "        real_steps = df1.loc[i][0]\n",
    "        break\n",
    "    if pd.isna(df1.loc[i][0]) == True:\n",
    "        continue\n",
    "    date_input += [df1.loc[i][0]]\n",
    "if statistics.median(date_input) > real_steps or pd.isna(real_steps) == True:\n",
    "    print('Ты прошел меньше обычного.')\n",
    "else:\n",
    "    print('Ты прошел больше обычного. Так держать!')"
   ]
  }
 ],
 "metadata": {
  "kernelspec": {
   "display_name": "Python 3",
   "language": "python",
   "name": "python3"
  },
  "language_info": {
   "codemirror_mode": {
    "name": "ipython",
    "version": 3
   },
   "file_extension": ".py",
   "mimetype": "text/x-python",
   "name": "python",
   "nbconvert_exporter": "python",
   "pygments_lexer": "ipython3",
   "version": "3.8.3"
  }
 },
 "nbformat": 4,
 "nbformat_minor": 4
}
